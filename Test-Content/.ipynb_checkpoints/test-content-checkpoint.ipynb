{
 "cells": [
  {
   "cell_type": "markdown",
   "id": "3bdb7b47",
   "metadata": {},
   "source": [
    "# Manejando textos"
   ]
  },
  {
   "cell_type": "markdown",
   "id": "c99cc21d",
   "metadata": {},
   "source": [
    "## Manejando placeholders"
   ]
  },
  {
   "cell_type": "markdown",
   "id": "da606174",
   "metadata": {},
   "source": [
    "### Cambiando el texto de un placeholder"
   ]
  },
  {
   "cell_type": "code",
   "execution_count": 6,
   "id": "f3d8c73d",
   "metadata": {},
   "outputs": [],
   "source": [
    "import aspose.slides as slides\n",
    "\n",
    "# Instantiates a Presentation class\n",
    "with slides.Presentation() as pres:\n",
    "    masterSlide = pres.masters[0]\n",
    "    pres.slides.remove(pres.slides[0])\n",
    "    pres.slides.add_empty_slide(masterSlide.layout_slides[0])\n",
    "    sld = pres.slides[0]\n",
    "\n",
    "    for shp in sld.shapes:\n",
    "        if shp.placeholder != None:\n",
    "            # Changes the text in each placeholder\n",
    "            shp.text_frame.text = \"This is Placeholder\"\n",
    "\n",
    "    # Saves the presentation to disk\n",
    "    pres.save(\"cambiando_texto_a_placeholder.pptx\", slides.export.SaveFormat.PPTX)"
   ]
  },
  {
   "cell_type": "markdown",
   "id": "982ec092",
   "metadata": {},
   "source": [
    "### Ocupando prompts como texto en un placeholder"
   ]
  },
  {
   "cell_type": "code",
   "execution_count": 12,
   "id": "728bc112",
   "metadata": {},
   "outputs": [],
   "source": [
    "import aspose.slides as slides\n",
    "\n",
    "with slides.Presentation() as pres:\n",
    "    masterSlide = pres.masters[0]\n",
    "    pres.slides.remove(pres.slides[0])\n",
    "    pres.slides.add_empty_slide(masterSlide.layout_slides[0])\n",
    "    slide = pres.slides[0]\n",
    "    for shape in slide.slide.shapes:\n",
    "        if shape.placeholder != None and type(shape) is slides.AutoShape:\n",
    "            text = \"\"\n",
    "            if shape.placeholder.type == slides.PlaceholderType.CENTERED_TITLE:  \n",
    "                text = \"Add Title\"\n",
    "            elif shape.placeholder.type == slides.PlaceholderType.SUBTITLE: \n",
    "                text = \"Add Subtitle\"\n",
    "            \n",
    "            promptText = \"Placeholder with promptext: {}\".format(promptText)\n",
    "            shape.text_frame.text = promptText\n",
    "\n",
    "    pres.save(\"Prompt_Text_en_placeholders.pptx\", slides.export.SaveFormat.PPTX)"
   ]
  },
  {
   "cell_type": "code",
   "execution_count": 14,
   "id": "2e7f712c",
   "metadata": {},
   "outputs": [],
   "source": [
    "import aspose.slides as slides\n",
    "\n",
    "with slides.Presentation() as presentation:\n",
    "    autoShape = presentation.slides[0].shapes.add_auto_shape(slides.ShapeType.RECTANGLE, 10, 10, 100, 100)\n",
    "    \n",
    "    autoShape.fill_format.fill_type = slides.FillType.PICTURE\n",
    "    with open(\"img/img.jpg\", \"rb\") as in_file:\n",
    "        autoShape.fill_format.picture_fill_format.picture.image = presentation.images.add_image(in_file)\n",
    "\n",
    "        autoShape.fill_format.picture_fill_format.picture_fill_mode = slides.PictureFillMode.STRETCH\n",
    "        autoShape.fill_format.picture_fill_format.picture.image_transform.add_alpha_modulate_fixed_effect(75)\n",
    "        \n",
    "    presentation.save(\"imagen_en_placeholder.pptx\", slides.export.SaveFormat.PPTX)"
   ]
  },
  {
   "cell_type": "markdown",
   "id": "0387d46a",
   "metadata": {},
   "source": [
    "## Manejando Text Box"
   ]
  },
  {
   "cell_type": "markdown",
   "id": "111f6026",
   "metadata": {},
   "source": [
    "### Crear un textbox"
   ]
  },
  {
   "cell_type": "code",
   "execution_count": 15,
   "id": "809a05f5",
   "metadata": {},
   "outputs": [],
   "source": [
    "import aspose.slides as slides\n",
    "\n",
    "with slides.Presentation() as pres:\n",
    "\n",
    "    sld = pres.slides[0]\n",
    "\n",
    "    ashp = sld.shapes.add_auto_shape(slides.ShapeType.RECTANGLE, 150, 75, 150, 50)\n",
    "\n",
    "    ashp.add_text_frame(\" \")\n",
    "\n",
    "    txtFrame = ashp.text_frame\n",
    "\n",
    "    para = txtFrame.paragraphs[0]\n",
    "\n",
    "    portion = para.portions[0]\n",
    "\n",
    "    portion.text = \"Aspose TextBox\"\n",
    "\n",
    "    pres.save(\"Creando_TextBox.pptx\", slides.export.SaveFormat.PPTX)"
   ]
  },
  {
   "cell_type": "markdown",
   "id": "9d5c81bf",
   "metadata": {},
   "source": [
    "### Actualizar texto"
   ]
  },
  {
   "cell_type": "code",
   "execution_count": 26,
   "id": "0096cfa3",
   "metadata": {},
   "outputs": [],
   "source": [
    "import aspose.slides as slides\n",
    "\n",
    "with slides.Presentation() as pres:\n",
    "    pres.slides.remove(pres.slides[0])\n",
    "    masterSlide = pres.masters[0]\n",
    "    pres.slides.add_empty_slide(masterSlide.layout_slides[0])\n",
    "    pres.slides.add_empty_slide(masterSlide.layout_slides[1]) \n",
    "    sld = pres.slides[0]\n",
    "    ashp = sld.shapes.add_auto_shape(slides.ShapeType.RECTANGLE, 150, 75, 150, 50)\n",
    "    ashp.add_text_frame(\" \")\n",
    "    txtFrame = ashp.text_frame\n",
    "    para = txtFrame.paragraphs[0]\n",
    "    portion = para.portions[0]\n",
    "    portion.text = \"Aspose TextBox\"\n",
    "    \n",
    "    for slide in pres.slides:\n",
    "        for shape in slide.shapes:\n",
    "            if type(shape) is slides.AutoShape:\n",
    "                for paragraph in shape.text_frame.paragraphs:\n",
    "                    for portion in paragraph.portions:\n",
    "                        portion.text = portion.text.replace(\"years\", \"months\")\n",
    "\n",
    "    pres.save(\"Actualizando_texto.pptx\", slides.export.SaveFormat.PPTX)"
   ]
  },
  {
   "cell_type": "code",
   "execution_count": null,
   "id": "12e27cb6",
   "metadata": {},
   "outputs": [],
   "source": []
  }
 ],
 "metadata": {
  "kernelspec": {
   "display_name": "Python 3 (ipykernel)",
   "language": "python",
   "name": "python3"
  },
  "language_info": {
   "codemirror_mode": {
    "name": "ipython",
    "version": 3
   },
   "file_extension": ".py",
   "mimetype": "text/x-python",
   "name": "python",
   "nbconvert_exporter": "python",
   "pygments_lexer": "ipython3",
   "version": "3.9.13"
  }
 },
 "nbformat": 4,
 "nbformat_minor": 5
}
