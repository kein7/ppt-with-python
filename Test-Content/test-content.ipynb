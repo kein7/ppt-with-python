{
 "cells": [
  {
   "cell_type": "markdown",
   "id": "3bdb7b47",
   "metadata": {},
   "source": [
    "# Manejando textos"
   ]
  },
  {
   "cell_type": "markdown",
   "id": "c99cc21d",
   "metadata": {},
   "source": [
    "## Manejando placeholders"
   ]
  },
  {
   "cell_type": "markdown",
   "id": "da606174",
   "metadata": {},
   "source": [
    "### Cambiando el texto de un placeholder"
   ]
  },
  {
   "cell_type": "code",
   "execution_count": 6,
   "id": "f3d8c73d",
   "metadata": {},
   "outputs": [],
   "source": [
    "import aspose.slides as slides\n",
    "\n",
    "# Instantiates a Presentation class\n",
    "with slides.Presentation() as pres:\n",
    "    masterSlide = pres.masters[0]\n",
    "    pres.slides.remove(pres.slides[0])\n",
    "    pres.slides.add_empty_slide(masterSlide.layout_slides[0])\n",
    "    sld = pres.slides[0]\n",
    "\n",
    "    for shp in sld.shapes:\n",
    "        if shp.placeholder != None:\n",
    "            # Changes the text in each placeholder\n",
    "            shp.text_frame.text = \"This is Placeholder\"\n",
    "\n",
    "    # Saves the presentation to disk\n",
    "    pres.save(\"cambiando_texto_a_placeholder.pptx\", slides.export.SaveFormat.PPTX)"
   ]
  },
  {
   "cell_type": "markdown",
   "id": "982ec092",
   "metadata": {},
   "source": [
    "### Ocupando prompts como texto en un placeholder"
   ]
  },
  {
   "cell_type": "code",
   "execution_count": 12,
   "id": "728bc112",
   "metadata": {},
   "outputs": [],
   "source": [
    "import aspose.slides as slides\n",
    "\n",
    "with slides.Presentation() as pres:\n",
    "    masterSlide = pres.masters[0]\n",
    "    pres.slides.remove(pres.slides[0])\n",
    "    pres.slides.add_empty_slide(masterSlide.layout_slides[0])\n",
    "    slide = pres.slides[0]\n",
    "    for shape in slide.slide.shapes:\n",
    "        if shape.placeholder != None and type(shape) is slides.AutoShape:\n",
    "            text = \"\"\n",
    "            if shape.placeholder.type == slides.PlaceholderType.CENTERED_TITLE:  \n",
    "                text = \"Add Title\"\n",
    "            elif shape.placeholder.type == slides.PlaceholderType.SUBTITLE: \n",
    "                text = \"Add Subtitle\"\n",
    "            \n",
    "            promptText = \"Placeholder with promptext: {}\".format(promptText)\n",
    "            shape.text_frame.text = promptText\n",
    "\n",
    "    pres.save(\"Prompt_Text_en_placeholders.pptx\", slides.export.SaveFormat.PPTX)"
   ]
  },
  {
   "cell_type": "code",
   "execution_count": 14,
   "id": "2e7f712c",
   "metadata": {},
   "outputs": [],
   "source": [
    "import aspose.slides as slides\n",
    "\n",
    "with slides.Presentation() as presentation:\n",
    "    autoShape = presentation.slides[0].shapes.add_auto_shape(slides.ShapeType.RECTANGLE, 10, 10, 100, 100)\n",
    "    \n",
    "    autoShape.fill_format.fill_type = slides.FillType.PICTURE\n",
    "    with open(\"img/img.jpg\", \"rb\") as in_file:\n",
    "        autoShape.fill_format.picture_fill_format.picture.image = presentation.images.add_image(in_file)\n",
    "\n",
    "        autoShape.fill_format.picture_fill_format.picture_fill_mode = slides.PictureFillMode.STRETCH\n",
    "        autoShape.fill_format.picture_fill_format.picture.image_transform.add_alpha_modulate_fixed_effect(75)\n",
    "        \n",
    "    presentation.save(\"imagen_en_placeholder.pptx\", slides.export.SaveFormat.PPTX)"
   ]
  },
  {
   "cell_type": "markdown",
   "id": "eff3f71a",
   "metadata": {},
   "source": [
    "## Moviendo un placeholder"
   ]
  },
  {
   "cell_type": "code",
   "execution_count": 2,
   "id": "e49d8dba",
   "metadata": {},
   "outputs": [],
   "source": [
    "import aspose.slides as slides\n",
    "\n",
    "# Instantiates a Presentation class\n",
    "with slides.Presentation() as pres:\n",
    "    masterSlide = pres.masters[0]\n",
    "    pres.slides.remove(pres.slides[0])\n",
    "    pres.slides.add_empty_slide(masterSlide.layout_slides[0])\n",
    "    sld = pres.slides[0]\n",
    "\n",
    "    for shp in sld.shapes:\n",
    "        if shp.placeholder != None:\n",
    "            shp.x = 50\n",
    "            shp.y = 150\n",
    "            \n",
    "    # Saves the presentation to disk\n",
    "    pres.save(\"moviendo_placeholder.pptx\", slides.export.SaveFormat.PPTX)"
   ]
  },
  {
   "cell_type": "markdown",
   "id": "0387d46a",
   "metadata": {},
   "source": [
    "## Manejando Text Box"
   ]
  },
  {
   "cell_type": "markdown",
   "id": "111f6026",
   "metadata": {},
   "source": [
    "### Crear un textbox"
   ]
  },
  {
   "cell_type": "code",
   "execution_count": 15,
   "id": "809a05f5",
   "metadata": {},
   "outputs": [],
   "source": [
    "import aspose.slides as slides\n",
    "\n",
    "with slides.Presentation() as pres:\n",
    "\n",
    "    sld = pres.slides[0]\n",
    "\n",
    "    ashp = sld.shapes.add_auto_shape(slides.ShapeType.RECTANGLE, 150, 75, 150, 50)\n",
    "\n",
    "    ashp.add_text_frame(\" \")\n",
    "\n",
    "    txtFrame = ashp.text_frame\n",
    "\n",
    "    para = txtFrame.paragraphs[0]\n",
    "\n",
    "    portion = para.portions[0]\n",
    "\n",
    "    portion.text = \"Aspose TextBox\"\n",
    "\n",
    "    pres.save(\"Creando_TextBox.pptx\", slides.export.SaveFormat.PPTX)"
   ]
  },
  {
   "cell_type": "markdown",
   "id": "9d5c81bf",
   "metadata": {},
   "source": [
    "### Actualizar texto"
   ]
  },
  {
   "cell_type": "code",
   "execution_count": 26,
   "id": "0096cfa3",
   "metadata": {},
   "outputs": [],
   "source": [
    "import aspose.slides as slides\n",
    "\n",
    "with slides.Presentation() as pres:\n",
    "    pres.slides.remove(pres.slides[0])\n",
    "    masterSlide = pres.masters[0]\n",
    "    pres.slides.add_empty_slide(masterSlide.layout_slides[0])\n",
    "    pres.slides.add_empty_slide(masterSlide.layout_slides[1]) \n",
    "    sld = pres.slides[0]\n",
    "    ashp = sld.shapes.add_auto_shape(slides.ShapeType.RECTANGLE, 150, 75, 150, 50)\n",
    "    ashp.add_text_frame(\" \")\n",
    "    txtFrame = ashp.text_frame\n",
    "    para = txtFrame.paragraphs[0]\n",
    "    portion = para.portions[0]\n",
    "    portion.text = \"Aspose TextBox\"\n",
    "    \n",
    "    for slide in pres.slides:\n",
    "        for shape in slide.shapes:\n",
    "            if type(shape) is slides.AutoShape:\n",
    "                for paragraph in shape.text_frame.paragraphs:\n",
    "                    for portion in paragraph.portions:\n",
    "                        portion.text = portion.text.replace(\"years\", \"months\")\n",
    "\n",
    "    pres.save(\"Actualizando_texto.pptx\", slides.export.SaveFormat.PPTX)"
   ]
  },
  {
   "cell_type": "markdown",
   "id": "80cf18d6",
   "metadata": {},
   "source": [
    "# Manejando imagenes"
   ]
  },
  {
   "cell_type": "markdown",
   "id": "2abb17d1",
   "metadata": {},
   "source": [
    "## Añadiendo imagen desde el local"
   ]
  },
  {
   "cell_type": "code",
   "execution_count": 5,
   "id": "de1ceb5c",
   "metadata": {},
   "outputs": [],
   "source": [
    "import aspose.slides as slides\n",
    "\n",
    "with slides.Presentation() as pres:\n",
    "    slide = pres.slides[0]\n",
    "    with open(\"img/img.jpg\", \"rb\") as in_file:\n",
    "        image = pres.images.add_image(in_file)\n",
    "        slide.shapes.add_picture_frame(slides.ShapeType.RECTANGLE, 10, 10, 500, 500, image)\n",
    "    \n",
    "    pres.save(\"Añadiendo_imagen_desde_local.pptx\", slides.export.SaveFormat.PPTX)"
   ]
  },
  {
   "cell_type": "markdown",
   "id": "2e4aabd4",
   "metadata": {},
   "source": [
    "## Añadiendo a Slide Master"
   ]
  },
  {
   "cell_type": "code",
   "execution_count": 15,
   "id": "dab94ea4",
   "metadata": {},
   "outputs": [],
   "source": [
    "import aspose.slides as slides\n",
    "\n",
    "with slides.Presentation() as pres:\n",
    "    slide = pres.slides[0]\n",
    "    masterSlide = slide.layout_slide.master_slide\n",
    "    with open(\"img/img.jpg\", \"rb\") as in_file:\n",
    "        image = pres.images.add_image(in_file)\n",
    "        masterSlide.shapes.add_picture_frame(slides.ShapeType.RECTANGLE, 10, 10, 100, 100, image)\n",
    "        \n",
    "    pres.save(\"Añadiendo_imagen_al_masterslide.pptx\", slides.export.SaveFormat.PPTX)"
   ]
  },
  {
   "cell_type": "markdown",
   "id": "b56b057f",
   "metadata": {},
   "source": [
    "## Añadiendo desde web"
   ]
  },
  {
   "cell_type": "code",
   "execution_count": 12,
   "id": "04bd9472",
   "metadata": {},
   "outputs": [
    {
     "ename": "TypeError",
     "evalue": "a bytes-like object is required, not 'HTTPResponse'",
     "output_type": "error",
     "traceback": [
      "\u001b[1;31m---------------------------------------------------------------------------\u001b[0m",
      "\u001b[1;31mTypeError\u001b[0m                                 Traceback (most recent call last)",
      "\u001b[1;32m~\\AppData\\Local\\Temp\\ipykernel_15268\\3766549114.py\u001b[0m in \u001b[0;36m<module>\u001b[1;34m\u001b[0m\n\u001b[0;32m      5\u001b[0m \u001b[1;32mwith\u001b[0m \u001b[0mslides\u001b[0m\u001b[1;33m.\u001b[0m\u001b[0mPresentation\u001b[0m\u001b[1;33m(\u001b[0m\u001b[1;33m)\u001b[0m \u001b[1;32mas\u001b[0m \u001b[0mpres\u001b[0m\u001b[1;33m:\u001b[0m\u001b[1;33m\u001b[0m\u001b[1;33m\u001b[0m\u001b[0m\n\u001b[0;32m      6\u001b[0m     \u001b[0mslide\u001b[0m \u001b[1;33m=\u001b[0m \u001b[0mpres\u001b[0m\u001b[1;33m.\u001b[0m\u001b[0mslides\u001b[0m\u001b[1;33m[\u001b[0m\u001b[1;36m0\u001b[0m\u001b[1;33m]\u001b[0m\u001b[1;33m\u001b[0m\u001b[1;33m\u001b[0m\u001b[0m\n\u001b[1;32m----> 7\u001b[1;33m     \u001b[0mimageData\u001b[0m \u001b[1;33m=\u001b[0m \u001b[0mbase64\u001b[0m\u001b[1;33m.\u001b[0m\u001b[0mb64encode\u001b[0m\u001b[1;33m(\u001b[0m\u001b[0murlopen\u001b[0m\u001b[1;33m(\u001b[0m\u001b[1;34m\"https://t0.gstatic.com/licensed-image?q=tbn:ANd9GcQkrjYxSfSHeCEA7hkPy8e2JphDsfFHZVKqx-3t37E4XKr-AT7DML8IwtwY0TnZsUcQ\"\u001b[0m\u001b[1;33m)\u001b[0m\u001b[1;33m)\u001b[0m\u001b[1;33m\u001b[0m\u001b[1;33m\u001b[0m\u001b[0m\n\u001b[0m\u001b[0;32m      8\u001b[0m \u001b[1;33m\u001b[0m\u001b[0m\n\u001b[0;32m      9\u001b[0m     \u001b[0mimage\u001b[0m \u001b[1;33m=\u001b[0m \u001b[0mpres\u001b[0m\u001b[1;33m.\u001b[0m\u001b[0mimages\u001b[0m\u001b[1;33m.\u001b[0m\u001b[0madd_image\u001b[0m\u001b[1;33m(\u001b[0m\u001b[0mimageData\u001b[0m\u001b[1;33m)\u001b[0m\u001b[1;33m\u001b[0m\u001b[1;33m\u001b[0m\u001b[0m\n",
      "\u001b[1;32m~\\anaconda3\\lib\\base64.py\u001b[0m in \u001b[0;36mb64encode\u001b[1;34m(s, altchars)\u001b[0m\n\u001b[0;32m     56\u001b[0m     \u001b[0mapplication\u001b[0m \u001b[0mto\u001b[0m \u001b[0me\u001b[0m\u001b[1;33m.\u001b[0m\u001b[0mg\u001b[0m\u001b[1;33m.\u001b[0m \u001b[0mgenerate\u001b[0m \u001b[0murl\u001b[0m \u001b[1;32mor\u001b[0m \u001b[0mfilesystem\u001b[0m \u001b[0msafe\u001b[0m \u001b[0mBase64\u001b[0m \u001b[0mstrings\u001b[0m\u001b[1;33m.\u001b[0m\u001b[1;33m\u001b[0m\u001b[1;33m\u001b[0m\u001b[0m\n\u001b[0;32m     57\u001b[0m     \"\"\"\n\u001b[1;32m---> 58\u001b[1;33m     \u001b[0mencoded\u001b[0m \u001b[1;33m=\u001b[0m \u001b[0mbinascii\u001b[0m\u001b[1;33m.\u001b[0m\u001b[0mb2a_base64\u001b[0m\u001b[1;33m(\u001b[0m\u001b[0ms\u001b[0m\u001b[1;33m,\u001b[0m \u001b[0mnewline\u001b[0m\u001b[1;33m=\u001b[0m\u001b[1;32mFalse\u001b[0m\u001b[1;33m)\u001b[0m\u001b[1;33m\u001b[0m\u001b[1;33m\u001b[0m\u001b[0m\n\u001b[0m\u001b[0;32m     59\u001b[0m     \u001b[1;32mif\u001b[0m \u001b[0maltchars\u001b[0m \u001b[1;32mis\u001b[0m \u001b[1;32mnot\u001b[0m \u001b[1;32mNone\u001b[0m\u001b[1;33m:\u001b[0m\u001b[1;33m\u001b[0m\u001b[1;33m\u001b[0m\u001b[0m\n\u001b[0;32m     60\u001b[0m         \u001b[1;32massert\u001b[0m \u001b[0mlen\u001b[0m\u001b[1;33m(\u001b[0m\u001b[0maltchars\u001b[0m\u001b[1;33m)\u001b[0m \u001b[1;33m==\u001b[0m \u001b[1;36m2\u001b[0m\u001b[1;33m,\u001b[0m \u001b[0mrepr\u001b[0m\u001b[1;33m(\u001b[0m\u001b[0maltchars\u001b[0m\u001b[1;33m)\u001b[0m\u001b[1;33m\u001b[0m\u001b[1;33m\u001b[0m\u001b[0m\n",
      "\u001b[1;31mTypeError\u001b[0m: a bytes-like object is required, not 'HTTPResponse'"
     ]
    }
   ],
   "source": [
    "import aspose.slides as slides\n",
    "from urllib.request import urlopen\n",
    "import base64\n",
    "\n",
    "with slides.Presentation() as pres:\n",
    "    slide = pres.slides[0]\n",
    "    imageData = base64.b64encode(urlopen(\"https://t0.gstatic.com/licensed-image?q=tbn:ANd9GcQkrjYxSfSHeCEA7hkPy8e2JphDsfFHZVKqx-3t37E4XKr-AT7DML8IwtwY0TnZsUcQ\").read())\n",
    "\n",
    "    image = pres.images.add_image(imageData)\n",
    "    slide.shapes.add_picture_frame(slides.ShapeType.RECTANGLE, 10, 10, 500, 500, image)\n",
    "    \n",
    "    pres.save(\"Añadiendo_imagen_desde_web.pptx\", slides.export.SaveFormat.PPTX)"
   ]
  },
  {
   "cell_type": "code",
   "execution_count": null,
   "id": "d2a15f28",
   "metadata": {},
   "outputs": [],
   "source": []
  }
 ],
 "metadata": {
  "kernelspec": {
   "display_name": "Python 3 (ipykernel)",
   "language": "python",
   "name": "python3"
  },
  "language_info": {
   "codemirror_mode": {
    "name": "ipython",
    "version": 3
   },
   "file_extension": ".py",
   "mimetype": "text/x-python",
   "name": "python",
   "nbconvert_exporter": "python",
   "pygments_lexer": "ipython3",
   "version": "3.9.13"
  }
 },
 "nbformat": 4,
 "nbformat_minor": 5
}
