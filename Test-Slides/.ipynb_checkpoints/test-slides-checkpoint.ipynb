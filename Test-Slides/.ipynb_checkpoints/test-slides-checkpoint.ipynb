{
 "cells": [
  {
   "cell_type": "markdown",
   "id": "dcdc7d1b",
   "metadata": {},
   "source": [
    "## Añadir slides a una presentación"
   ]
  },
  {
   "cell_type": "markdown",
   "id": "5dc0a369",
   "metadata": {},
   "source": [
    "### Añadiendo todos los layouts "
   ]
  },
  {
   "cell_type": "code",
   "execution_count": 7,
   "id": "8184d412",
   "metadata": {},
   "outputs": [],
   "source": [
    "import aspose.slides as slides\n",
    "\n",
    "\n",
    "with slides.Presentation() as pres:\n",
    "    slds = pres.slides\n",
    "\n",
    "    for i in range(len(pres.layout_slides)):\n",
    "        # Add an empty slide to the Slides collection\n",
    "        slds.add_empty_slide(pres.layout_slides[i])\n",
    "\n",
    "    pres.save(\"Añadiendo_Slides_con_todos_los_layouts.pptx\", slides.export.SaveFormat.PPTX)"
   ]
  },
  {
   "cell_type": "markdown",
   "id": "ffb8b28d",
   "metadata": {},
   "source": [
    "### Añadiendo un layout especifico "
   ]
  },
  {
   "cell_type": "code",
   "execution_count": 5,
   "id": "5333086f",
   "metadata": {},
   "outputs": [],
   "source": [
    "with slides.Presentation() as pres:\n",
    "    slds = pres.slides\n",
    "    slds.add_empty_slide(pres.layout_slides[0])\n",
    "    pres.save(\"Añadiendo_Slides_con_un_layout_especifco.pptx\", slides.export.SaveFormat.PPTX)"
   ]
  },
  {
   "cell_type": "markdown",
   "id": "2a7be720",
   "metadata": {},
   "source": [
    "## Accediendo a las Slides de una presentación"
   ]
  },
  {
   "cell_type": "markdown",
   "id": "74d6cc4b",
   "metadata": {},
   "source": [
    "### Accediendo por indice"
   ]
  },
  {
   "cell_type": "code",
   "execution_count": 8,
   "id": "63752821",
   "metadata": {},
   "outputs": [],
   "source": [
    "import aspose.slides as slides\n",
    "\n",
    "with slides.Presentation(\"Añadiendo_Slides_con_todos_los_layouts.pptx\") as presentation:\n",
    "    slide = presentation.slides[0]"
   ]
  },
  {
   "cell_type": "markdown",
   "id": "21749a62",
   "metadata": {},
   "source": [
    "### Accediendo por ID"
   ]
  },
  {
   "cell_type": "code",
   "execution_count": null,
   "id": "28eea39c",
   "metadata": {},
   "outputs": [],
   "source": [
    "import aspose.slides as slides\n",
    "\n",
    "with slides.Presentation(path + \"AccessSlides.pptx\") as presentation:\n",
    "    id = presentation.slides[0].slide_id\n",
    "    slide = presentation.get_slide_by_id(id)"
   ]
  },
  {
   "cell_type": "markdown",
   "id": "516a4e88",
   "metadata": {},
   "source": [
    "## Eliminar Slide de una presentación"
   ]
  },
  {
   "cell_type": "markdown",
   "id": "7027ef5a",
   "metadata": {},
   "source": [
    "### Eliminando por referencia"
   ]
  },
  {
   "cell_type": "code",
   "execution_count": 14,
   "id": "8c8a100e",
   "metadata": {},
   "outputs": [],
   "source": [
    "import aspose.slides as slides\n",
    "\n",
    "with slides.Presentation(\"Añadiendo_Slides_con_todos_los_layouts.pptx\") as pres:\n",
    "    slide = pres.slides[0]\n",
    "    pres.slides.remove(slide)\n",
    "\n",
    "    pres.save(\"Eliminando_Slide_por_referencia.pptx\", slides.export.SaveFormat.PPTX)"
   ]
  },
  {
   "cell_type": "markdown",
   "id": "bb9411c7",
   "metadata": {},
   "source": [
    "### Eliminando por indice"
   ]
  },
  {
   "cell_type": "code",
   "execution_count": 16,
   "id": "4da0eae7",
   "metadata": {},
   "outputs": [],
   "source": [
    "import aspose.slides as slides\n",
    "\n",
    "with slides.Presentation(\"Añadiendo_Slides_con_todos_los_layouts.pptx\") as pres:\n",
    "    pres.slides.remove_at(0)\n",
    "\n",
    "    pres.save(\"Eliminando_Slide_por_indice.pptx\", slides.export.SaveFormat.PPTX)"
   ]
  },
  {
   "cell_type": "markdown",
   "id": "78f5e5d9",
   "metadata": {},
   "source": [
    "## Clonar slides"
   ]
  },
  {
   "cell_type": "markdown",
   "id": "9cb3db9b",
   "metadata": {},
   "source": [
    "## Convertir Slide a un PNG"
   ]
  },
  {
   "cell_type": "code",
   "execution_count": 21,
   "id": "3483db70",
   "metadata": {},
   "outputs": [],
   "source": [
    "import aspose.pydrawing as draw\n",
    "import aspose.slides as slides\n",
    "\n",
    "with slides.Presentation(\"test_ppt.pptx\") as pres:\n",
    "\n",
    "    with pres.slides[0].get_thumbnail(draw.Size(1820, 1040)) as bmp:\n",
    "        bmp.save(\"Slide-a-png/Slide_0.png\", draw.imaging.ImageFormat.png)\n",
    "        \n",
    "    with pres.slides[1].get_thumbnail(draw.Size(1820, 1040)) as bmp:\n",
    "        bmp.save(\"Slide-a-png/Slide_1.png\", draw.imaging.ImageFormat.png)"
   ]
  },
  {
   "cell_type": "markdown",
   "id": "68f93576",
   "metadata": {},
   "source": [
    "## Añadir un Layout Slide a la presentación"
   ]
  },
  {
   "cell_type": "code",
   "execution_count": null,
   "id": "62f7f91b",
   "metadata": {},
   "outputs": [],
   "source": [
    "import aspose.pydrawing as draw\n",
    "import aspose.slides as slides\n",
    "\n",
    "# Instantiate Presentation class that represents the presentation file\n",
    "with slides.Presentation(path + \"AccessSlides.pptx\") as presentation:\n",
    "    # Try to search by layout slide type\n",
    "    layoutSlides = presentation.masters[0].layout_slides\n",
    "    layoutSlide = layoutSlides.get_by_type(slides.SlideLayoutType.TITLE_AND_OBJECT)  \n",
    "    if layoutSlide is None:\n",
    "         layoutSlide = layoutSlides.get_by_type(slides.SlideLayoutType.TITLE)\n",
    "\n",
    "    if layoutSlide is None:\n",
    "        # The situation when a presentation doesn't contain some type of layouts.\n",
    "        # presentation File only contains Blank and Custom layout types.\n",
    "        # But layout slides with Custom types has different slide names,\n",
    "        # like \"Title\", \"Title and Content\", etc. And it is possible to use these\n",
    "        # names for layout slide selection.\n",
    "        # Also it is possible to use the set of placeholder shape types. For example,\n",
    "        # Title slide should have only Title pleceholder type, etc.\n",
    "        for titleAndObjectLayoutSlide in layoutSlides:\n",
    "            if titleAndObjectLayoutSlide.name == \"Title and Object\":\n",
    "                layoutSlide = titleAndObjectLayoutSlide\n",
    "                break\n",
    "\n",
    "        if layoutSlide is None:\n",
    "            for titleLayoutSlide in layoutSlides:\n",
    "                if titleLayoutSlide.name == \"Title\":\n",
    "                    layoutSlide = titleLayoutSlide\n",
    "                    break\n",
    "\n",
    "            if layoutSlide is None:\n",
    "                layoutSlide = layoutSlides.get_by_type(slides.SlideLayoutType.BLANK)\n",
    "                if layoutSlide is None:\n",
    "                    layoutSlide = layoutSlides.Add(slides.SlideLayoutType.TITLE_AND_OBJECT, \"Title and Object\")\n",
    "\n",
    "    # Adding empty slide with added layout slide \n",
    "    presentation.slides.insert_empty_slide(0, layoutSlide)\n",
    "\n",
    "    # save presentation    \n",
    "    presentation.save(\"AddLayoutSlides_out.pptx\", slides.export.SaveFormat.PPTX)"
   ]
  },
  {
   "cell_type": "code",
   "execution_count": 22,
   "id": "d978a39d",
   "metadata": {},
   "outputs": [],
   "source": [
    "import aspose.pydrawing as draw\n",
    "import aspose.slides as slides\n",
    "\n",
    "with slides.Presentation() as presentation:\n",
    "    #Obteniendo las layout del master\n",
    "    layoutSlides = presentation.masters[0].layout_slides\n",
    "    #Elijiendo un layout del master\n",
    "    layoutSlide = layoutSlides.get_by_type(slides.SlideLayoutType.TITLE_AND_OBJECT)  \n",
    "\n",
    "    presentation.slides.insert_empty_slide(0, layoutSlide)    \n",
    "    presentation.save(\"Añadir_un_layout_slide.pptx\", slides.export.SaveFormat.PPTX)"
   ]
  },
  {
   "cell_type": "code",
   "execution_count": null,
   "id": "a14e82cd",
   "metadata": {},
   "outputs": [],
   "source": []
  }
 ],
 "metadata": {
  "kernelspec": {
   "display_name": "Python 3 (ipykernel)",
   "language": "python",
   "name": "python3"
  },
  "language_info": {
   "codemirror_mode": {
    "name": "ipython",
    "version": 3
   },
   "file_extension": ".py",
   "mimetype": "text/x-python",
   "name": "python",
   "nbconvert_exporter": "python",
   "pygments_lexer": "ipython3",
   "version": "3.9.13"
  }
 },
 "nbformat": 4,
 "nbformat_minor": 5
}
