{
 "cells": [
  {
   "cell_type": "markdown",
   "id": "c8fb10d5",
   "metadata": {},
   "source": [
    "# Aspose Slides test"
   ]
  },
  {
   "cell_type": "code",
   "execution_count": 1,
   "id": "8b302d7e",
   "metadata": {},
   "outputs": [],
   "source": [
    "import aspose.slides as slides"
   ]
  },
  {
   "cell_type": "markdown",
   "id": "16bdcd83",
   "metadata": {},
   "source": [
    "## Creando una nueva presentación"
   ]
  },
  {
   "cell_type": "code",
   "execution_count": 5,
   "id": "d12eae7e",
   "metadata": {},
   "outputs": [],
   "source": [
    "# Create a new presentation\n",
    "with slides.Presentation() as presentation:\n",
    "    \n",
    "    # Access the default slide\n",
    "    slide = presentation.slides[0]\n",
    "    \n",
    "    # Save the presentation\n",
    "    presentation.save(\"create-test-presentation.pptx\", slides.export.SaveFormat.PPTX)"
   ]
  },
  {
   "cell_type": "markdown",
   "id": "4edc6ea4",
   "metadata": {},
   "source": [
    "## Accediendo a una presentación"
   ]
  },
  {
   "cell_type": "code",
   "execution_count": 6,
   "id": "4564847a",
   "metadata": {},
   "outputs": [],
   "source": [
    "# Open presentation\n",
    "with slides.Presentation(\"create-test-presentation.pptx\") as presentation:\n",
    "    \n",
    "    # Access the default slide\n",
    "    slide = presentation.slides[0]\n",
    "    \n",
    "    # Save the presentation\n",
    "    presentation.save(\"presentation.pptx\", slides.export.SaveFormat.PPT)"
   ]
  },
  {
   "cell_type": "markdown",
   "id": "bb744db3",
   "metadata": {},
   "source": [
    "## Agregando slides a la presentación"
   ]
  },
  {
   "cell_type": "code",
   "execution_count": 9,
   "id": "0af32d5d",
   "metadata": {},
   "outputs": [],
   "source": [
    "# Open presentation\n",
    "with slides.Presentation(\"presentation.pptx\") as pres:\n",
    "    # Get reference of slides\n",
    "    slds = pres.slides\n",
    "\n",
    "    # Loop through layout slides\n",
    "    for i in range(len(pres.layout_slides)):\n",
    "        # Add an empty slide to the slides collection\n",
    "        slds.add_empty_slide(pres.layout_slides[i])\n",
    "        \n",
    "    # Do some work on the newly added slide\n",
    "\n",
    "    # Save the PPTX file to the Disk\n",
    "    pres.save(\"presentation.pptx\", slides.export.SaveFormat.PPTX)\n"
   ]
  },
  {
   "cell_type": "markdown",
   "id": "f80e49fb",
   "metadata": {},
   "source": [
    "## Agregando texto a una slide"
   ]
  },
  {
   "cell_type": "markdown",
   "id": "23fc90f0",
   "metadata": {},
   "source": [
    "### En un textbox "
   ]
  },
  {
   "cell_type": "code",
   "execution_count": 10,
   "id": "04eee745",
   "metadata": {},
   "outputs": [],
   "source": [
    "# Open presentation\n",
    "with slides.Presentation(\"presentation.pptx\") as pres:\n",
    "    # Access first slide\n",
    "    slide = pres.slides[0]\n",
    "\n",
    "    # Add an AutoShape with type set as Rectangle\n",
    "    ashp = slide.shapes.add_auto_shape(slides.ShapeType.RECTANGLE, 150, 75, 150, 50)\n",
    "\n",
    "    # Add TextFrame to the Rectangle\n",
    "    ashp.add_text_frame(\" \")\n",
    "\n",
    "    # Access the text frame\n",
    "    txtFrame = ashp.text_frame\n",
    "\n",
    "    # Create the Paragraph object for text frame\n",
    "    para = txtFrame.paragraphs[0]\n",
    "\n",
    "    # Create a Portion object for paragraph\n",
    "    portion = para.portions[0]\n",
    "\n",
    "    # Set text\n",
    "    portion.text = \"Aspose TextBox\"\n",
    "\n",
    "    # Save the presentation\n",
    "    pres.save(\"presentation.pptx\", slides.export.SaveFormat.PPTX)"
   ]
  },
  {
   "cell_type": "markdown",
   "id": "af1f2082",
   "metadata": {},
   "source": [
    "### En un placeholder"
   ]
  },
  {
   "cell_type": "code",
   "execution_count": 16,
   "id": "e9da5b1d",
   "metadata": {},
   "outputs": [],
   "source": [
    "# Open presentation\n",
    "with slides.Presentation(\"presentation.pptx\") as pres:\n",
    "    # Accesses the second slide\n",
    "    sld = pres.slides[1]\n",
    "    \n",
    "    # Iterates through shapes to find the placeholder\n",
    "    for shp in sld.shapes:\n",
    "        if shp.placeholder != None:\n",
    "            # Changes the text in each placeholder\n",
    "            shp.text_frame.text = \"This is Placeholder\"\n",
    "\n",
    "    # Saves the presentation to disk\n",
    "    pres.save(\"presentation.pptx\", slides.export.SaveFormat.PPTX)"
   ]
  },
  {
   "cell_type": "markdown",
   "id": "bc9f3e94",
   "metadata": {},
   "source": [
    "## Crear tablas"
   ]
  },
  {
   "cell_type": "code",
   "execution_count": 19,
   "id": "b1112e46",
   "metadata": {},
   "outputs": [],
   "source": [
    "import aspose.pydrawing as drawing\n",
    "# Open presentation\n",
    "with slides.Presentation(\"presentation.pptx\") as pres:\n",
    "    # Access first slide\n",
    "    slide = pres.slides[0]\n",
    "\n",
    "    # Define columns with widths and rows with heights\n",
    "    dblCols =  [50, 50, 50] \n",
    "    dblRows =  [50, 30, 30, 30, 30] \n",
    "\n",
    "    # Add table shape to slide\n",
    "    tbl = slide.shapes.add_table(100, 50, dblCols, dblRows)\n",
    "\n",
    "    # Set border format for each cell\n",
    "    for row in range(len(tbl.rows)):\n",
    "        for cell in range(len(tbl.rows[row])):\n",
    "            tbl.rows[row][cell].cell_format.border_top.fill_format.fill_type = slides.FillType.SOLID\n",
    "            tbl.rows[row][cell].cell_format.border_top.fill_format.solid_fill_color.color = drawing.Color.blue\n",
    "            tbl.rows[row][cell].cell_format.border_top.width = 5\n",
    "\n",
    "            tbl.rows[row][cell].cell_format.border_bottom.fill_format.fill_type = slides.FillType.SOLID\n",
    "            tbl.rows[row][cell].cell_format.border_bottom.fill_format.solid_fill_color.color= drawing.Color.blue\n",
    "            tbl.rows[row][cell].cell_format.border_bottom.width =5\n",
    "\n",
    "            tbl.rows[row][cell].cell_format.border_left.fill_format.fill_type = slides.FillType.SOLID\n",
    "            tbl.rows[row][cell].cell_format.border_left.fill_format.solid_fill_color.color =drawing.Color.blue\n",
    "            tbl.rows[row][cell].cell_format.border_left.width = 5\n",
    "\n",
    "            tbl.rows[row][cell].cell_format.border_right.fill_format.fill_type = slides.FillType.SOLID\n",
    "            tbl.rows[row][cell].cell_format.border_right.fill_format.solid_fill_color.color = drawing.Color.blue\n",
    "            tbl.rows[row][cell].cell_format.border_right.width = 5\n",
    "\n",
    "\n",
    "    # Merge cells 1 & 2 of row 1\n",
    "    tbl.merge_cells(tbl.rows[0][0], tbl.rows[1][1], False)\n",
    "\n",
    "    # Add text to the merged cell\n",
    "    tbl.rows[0][0].text_frame.text = \"Merged Cells\"\n",
    "\n",
    "    # Save the presentation\n",
    "    pres.save(\"presentation.pptx\", slides.export.SaveFormat.PPTX)"
   ]
  },
  {
   "cell_type": "markdown",
   "id": "59df1b76",
   "metadata": {},
   "source": [
    "## Crear un grafico"
   ]
  },
  {
   "cell_type": "code",
   "execution_count": 27,
   "id": "ccc8b56f",
   "metadata": {},
   "outputs": [],
   "source": [
    "import aspose.pydrawing as drawing\n",
    "\n",
    "# Create presentation\n",
    "with slides.Presentation(\"presentation.pptx\") as pres:\n",
    "    # Access first slide\n",
    "    sld = pres.slides[1]\n",
    "\n",
    "    # Add chart with default data\n",
    "    chart = sld.shapes.add_chart(slides.charts.ChartType.CLUSTERED_COLUMN, 0, 0, 500, 500)\n",
    "\n",
    "    # Set chart Title\n",
    "    chart.chart_title.add_text_frame_for_overriding(\"Sample Title\")\n",
    "    chart.chart_title.height = 20\n",
    "    chart.has_title = True\n",
    "\n",
    "    # Set first series to Show Values\n",
    "    chart.chart_data.series[0].labels.default_data_label_format.show_value = True\n",
    "\n",
    "    # Set the index of chart data sheet\n",
    "    defaultWorksheetIndex = 0\n",
    "\n",
    "    # Get the chart data worksheet\n",
    "    fact = chart.chart_data.chart_data_workbook\n",
    "\n",
    "    # Delete default generated series and categories\n",
    "    chart.chart_data.series.clear()\n",
    "    chart.chart_data.categories.clear()\n",
    "    s = len(chart.chart_data.series)\n",
    "    s = len(chart.chart_data.categories)\n",
    "\n",
    "    # Add new series\n",
    "    chart.chart_data.series.add(fact.get_cell(defaultWorksheetIndex, 0, 1, \"Series 1\"), chart.type)\n",
    "    chart.chart_data.series.add(fact.get_cell(defaultWorksheetIndex, 0, 2, \"Series 2\"), chart.type)\n",
    "\n",
    "    # Add new categories\n",
    "    chart.chart_data.categories.add(fact.get_cell(defaultWorksheetIndex, 1, 0, \"Caetegoty 1\"))\n",
    "    chart.chart_data.categories.add(fact.get_cell(defaultWorksheetIndex, 2, 0, \"Caetegoty 2\"))\n",
    "    chart.chart_data.categories.add(fact.get_cell(defaultWorksheetIndex, 3, 0, \"Caetegoty 3\"))\n",
    "\n",
    "    # Take first chart series\n",
    "    series = chart.chart_data.series[0]\n",
    "\n",
    "    # Now populating series data\n",
    "\n",
    "    series.data_points.add_data_point_for_bar_series(fact.get_cell(defaultWorksheetIndex, 1, 1, 20))\n",
    "    series.data_points.add_data_point_for_bar_series(fact.get_cell(defaultWorksheetIndex, 2, 1, 50))\n",
    "    series.data_points.add_data_point_for_bar_series(fact.get_cell(defaultWorksheetIndex, 3, 1, 30))\n",
    "\n",
    "    # Set fill color for series\n",
    "    series.format.fill.fill_type = slides.FillType.SOLID\n",
    "    series.format.fill.solid_fill_color.color = drawing.Color.red\n",
    "\n",
    "    # Take second chart series\n",
    "    series = chart.chart_data.series[1]\n",
    "\n",
    "    # Now populating series data\n",
    "    series.data_points.add_data_point_for_bar_series(fact.get_cell(defaultWorksheetIndex, 1, 2, 30))\n",
    "    series.data_points.add_data_point_for_bar_series(fact.get_cell(defaultWorksheetIndex, 2, 2, 10))\n",
    "    series.data_points.add_data_point_for_bar_series(fact.get_cell(defaultWorksheetIndex, 3, 2, 60))\n",
    "\n",
    "    # Setting fill color for series\n",
    "    series.format.fill.fill_type = slides.FillType.SOLID\n",
    "    series.format.fill.solid_fill_color.color = drawing.Color.orange\n",
    "\n",
    "    # First label will be show Category name\n",
    "    lbl = series.data_points[0].label\n",
    "    lbl.data_label_format.show_category_name = True\n",
    "\n",
    "    lbl = series.data_points[1].label\n",
    "    lbl.data_label_format.show_series_name = True\n",
    "\n",
    "    # Show value for third label\n",
    "    lbl = series.data_points[2].label\n",
    "    lbl.data_label_format.show_value = True\n",
    "    lbl.data_label_format.show_series_name = True\n",
    "    lbl.data_label_format.separator = \"/\"\n",
    "\n",
    "    # Save the presentation\n",
    "    pres.save(\"presentation.pptx\", slides.export.SaveFormat.PPTX)"
   ]
  },
  {
   "cell_type": "code",
   "execution_count": 12,
   "id": "3aa31ea2",
   "metadata": {},
   "outputs": [],
   "source": [
    "# Create a new presentation\n",
    "with slides.Presentation() as presentation:\n",
    "    \n",
    "    # Access the default slide\n",
    "    slide = presentation.slides[0]\n",
    "    \n",
    "    # Save the presentation\n",
    "    presentation.save(\"create-test-presentation.pptx\", slides.export.SaveFormat.PPTX)"
   ]
  },
  {
   "cell_type": "code",
   "execution_count": 16,
   "id": "c4494ee9",
   "metadata": {},
   "outputs": [],
   "source": [
    "with slides.Presentation(\"create-test-presentation.pptx\") as presentation:\n",
    "    # Try to search by layout slide type\n",
    "    layoutSlides = presentation.masters[0].layout_slides\n",
    "    layoutSlide = layoutSlides.get_by_type(slides.SlideLayoutType.TITLE_AND_OBJECT) and layoutSlides.get_by_type(slides.SlideLayoutType.TITLE)\n",
    "\n",
    "    if layoutSlide is None:\n",
    "        # The situation when a presentation doesn't contain some type of layouts.\n",
    "        # presentation File only contains Blank and Custom layout types.\n",
    "        # But layout slides with Custom types has different slide names,\n",
    "        # like \"Title\", \"Title and Content\", etc. And it is possible to use these\n",
    "        # names for layout slide selection.\n",
    "        # Also it is possible to use the set of placeholder shape types. For example,\n",
    "        # Title slide should have only Title pleceholder type, etc.\n",
    "        for titleAndObjectLayoutSlide in layoutSlides:\n",
    "            if titleAndObjectLayoutSlide.name == \"Title and Object\":\n",
    "                layoutSlide = titleAndObjectLayoutSlide\n",
    "                break\n",
    "        if layoutSlide is None:\n",
    "            for titleLayoutSlide in layoutSlides:\n",
    "                if titleLayoutSlide.name == \"Title\":\n",
    "                    layoutSlide = titleLayoutSlide\n",
    "                    break\n",
    "\n",
    "            if layoutSlide is None:\n",
    "                layoutSlide = layoutSlides.get_by_type(slides.SlideLayoutType.BLANK)\n",
    "                if layoutSlide is None:\n",
    "                    layoutSlide = layoutSlides.add(slides.SlideLayoutType.TITLE_AND_OBJECT, \"Title and Object\")\n",
    "\n",
    "    # Adding empty slide with added layout slide \n",
    "    presentation.slides.insert_empty_slide(0, layoutSlide)\n",
    "\n",
    "    # Save presentation    \n",
    "    presentation.save(\"layout_add_layout_slides_out.pptx\", slides.export.SaveFormat.PPTX)\n",
    "    "
   ]
  },
  {
   "cell_type": "markdown",
   "id": "c8ea65de",
   "metadata": {},
   "source": [
    "## Testeando"
   ]
  },
  {
   "cell_type": "markdown",
   "id": "e543b15d",
   "metadata": {},
   "source": [
    "## Probando chatgpt\n",
    "Este codigo es de la version 21.10.0"
   ]
  },
  {
   "cell_type": "code",
   "execution_count": 4,
   "id": "bd7eba34",
   "metadata": {},
   "outputs": [
    {
     "ename": "AttributeError",
     "evalue": "'aspose.slides.SlideCollection' object has no attribute 'add_blank_slide'",
     "output_type": "error",
     "traceback": [
      "\u001b[1;31m---------------------------------------------------------------------------\u001b[0m",
      "\u001b[1;31mAttributeError\u001b[0m                            Traceback (most recent call last)",
      "\u001b[1;32m~\\AppData\\Local\\Temp\\ipykernel_16524\\3190269622.py\u001b[0m in \u001b[0;36m<module>\u001b[1;34m\u001b[0m\n\u001b[0;32m      5\u001b[0m \u001b[1;32mwith\u001b[0m \u001b[0mslides\u001b[0m\u001b[1;33m.\u001b[0m\u001b[0mPresentation\u001b[0m\u001b[1;33m(\u001b[0m\u001b[1;33m)\u001b[0m \u001b[1;32mas\u001b[0m \u001b[0mpresentation\u001b[0m\u001b[1;33m:\u001b[0m\u001b[1;33m\u001b[0m\u001b[1;33m\u001b[0m\u001b[0m\n\u001b[0;32m      6\u001b[0m     \u001b[1;31m# Add a blank slide to the presentation\u001b[0m\u001b[1;33m\u001b[0m\u001b[1;33m\u001b[0m\u001b[0m\n\u001b[1;32m----> 7\u001b[1;33m     \u001b[0mslide\u001b[0m \u001b[1;33m=\u001b[0m \u001b[0mpresentation\u001b[0m\u001b[1;33m.\u001b[0m\u001b[0mslides\u001b[0m\u001b[1;33m.\u001b[0m\u001b[0madd_blank_slide\u001b[0m\u001b[1;33m(\u001b[0m\u001b[0mslides\u001b[0m\u001b[1;33m.\u001b[0m\u001b[0mlayout\u001b[0m\u001b[1;33m.\u001b[0m\u001b[0mBlankLayout\u001b[0m\u001b[1;33m(\u001b[0m\u001b[1;33m)\u001b[0m\u001b[1;33m)\u001b[0m\u001b[1;33m\u001b[0m\u001b[1;33m\u001b[0m\u001b[0m\n\u001b[0m\u001b[0;32m      8\u001b[0m \u001b[1;33m\u001b[0m\u001b[0m\n\u001b[0;32m      9\u001b[0m     \u001b[1;31m# Define the position and size of the charts on the slide\u001b[0m\u001b[1;33m\u001b[0m\u001b[1;33m\u001b[0m\u001b[0m\n",
      "\u001b[1;31mAttributeError\u001b[0m: 'aspose.slides.SlideCollection' object has no attribute 'add_blank_slide'"
     ]
    }
   ],
   "source": [
    "import aspose.slides.charts as charts\n",
    "import aspose.slides as slides\n",
    "import aspose.pydrawing as draw\n",
    "\n",
    "with slides.Presentation() as presentation:\n",
    "    # Add a blank slide to the presentation\n",
    "    slide = presentation.slides.add_blank_slide(slides.layout.BlankLayout())\n",
    "\n",
    "    # Define the position and size of the charts on the slide\n",
    "    chart1_x = chart2_x = slides.Length.from_inch(1)\n",
    "    chart1_y = slides.Length.from_inch(1)\n",
    "    chart_width = chart_height = slides.Length.from_inch(5)\n",
    "    # Create chart1 for data\n",
    "    chart1 = slide.shapes.add_chart(\n",
    "        ChartType.COLUMN_CLUSTERED,\n",
    "        chart1_x, chart1_y, chart_width, chart_height\n",
    "    ).chart\n",
    "\n",
    "    chart1.plots.clear()\n",
    "    chart1.plots.add_series(slides.DataTable(data, True))\n",
    "\n",
    "    # Create chart2 for data2\n",
    "    chart2_y = chart1_y + chart_height + slides.Length.from_inch(0.5)\n",
    "    chart2 = slide.shapes.add_chart(\n",
    "        ChartType.LINE,\n",
    "        chart2_x, chart2_y, chart_width, chart_height\n",
    "    ).chart\n",
    "\n",
    "    chart2.plots.clear()\n",
    "    chart2.plots.add_series(slides.DataTable(data2[1:], True))\n",
    "\n",
    "    # Customize the appearance of chart1 and chart2\n",
    "    chart1.has_legend = False\n",
    "    chart1.has_title = True\n",
    "    chart1.chart_title.text_frame.text = \"Data Chart\"\n",
    "\n",
    "    chart2.has_legend = False\n",
    "    chart2.has_title = True\n",
    "    chart2.chart_title.text_frame.text = \"Data2 Chart\"\n",
    "\n",
    "    # Save the presentation to a file\n",
    "    output_file = \"data_charts.pptx\"\n",
    "    presentation.save(output_file)\n",
    "    print(f\"Presentation saved to {output_file} successfully.\")"
   ]
  },
  {
   "cell_type": "markdown",
   "id": "a55e8869",
   "metadata": {},
   "source": [
    "## Lo mismo que lo anterior\n",
    "Pero en version 23.5.0"
   ]
  },
  {
   "cell_type": "code",
   "execution_count": 4,
   "id": "4e11cfd0",
   "metadata": {},
   "outputs": [],
   "source": [
    "import aspose.slides.charts as charts\n",
    "import aspose.pydrawing as draw"
   ]
  },
  {
   "cell_type": "code",
   "execution_count": 10,
   "id": "a49c19f2",
   "metadata": {},
   "outputs": [],
   "source": [
    "with slides.Presentation() as presentation:\n",
    "    \n",
    "    slide = presentation.slides[0]\n",
    "    chart = slide.shapes.add_chart(charts.ChartType.CLUSTERED_COLUMN, 0, 0, 500, 500)\n",
    "    \n",
    "    presentation.save(\"presentationV1.pptx\", slides.export.SaveFormat.PPTX)"
   ]
  },
  {
   "cell_type": "code",
   "execution_count": 35,
   "id": "43f6f558",
   "metadata": {},
   "outputs": [],
   "source": [
    "with slides.Presentation() as presentation:\n",
    "    masterSlide = presentation.masters[0]\n",
    "    slide = presentation.slides[0]\n",
    "    chart = slide.shapes.add_chart(charts.ChartType.CLUSTERED_COLUMN, 0, 0, 700, 700)\n",
    "    presentation.save(\"presentationV2.pptx\", slides.export.SaveFormat.PPTX)"
   ]
  },
  {
   "cell_type": "code",
   "execution_count": 30,
   "id": "9522b9e0",
   "metadata": {},
   "outputs": [],
   "source": [
    "import aspose.slides.charts as charts\n",
    "with slides.Presentation() as presentation:\n",
    "    presentation.slides.remove(presentation.slides[0])\n",
    "    masterSlide = presentation.masters[0]\n",
    "    slide = presentation.slides.add_empty_slide(masterSlide.layout_slides[0])\n",
    "    slide2 = presentation.slides.add_empty_slide(masterSlide.layout_slides[0])\n",
    "    chart = slide.shapes.add_chart(charts.ChartType.CLUSTERED_COLUMN, 0, 0, 500, 500)\n",
    "    chart2 = slide2.shapes.add_chart(charts.ChartType.CLUSTERED_COLUMN, 0, 0, 500, 500)\n",
    "    presentation.save(\"presentationV3.pptx\", slides.export.SaveFormat.PPTX)"
   ]
  },
  {
   "cell_type": "code",
   "execution_count": 13,
   "id": "fa936f08",
   "metadata": {},
   "outputs": [],
   "source": [
    "with slides.Presentation() as presentation:\n",
    "    slide = presentation.slides[0]\n",
    "    ashp = slide.shapes.add_auto_shape(slides.ShapeType.RECTANGLE, 150, 75, 150, 50)\n",
    "    ashp.fill_format.fill_type = slides.FillType.NO_FILL\n",
    "    presentation.save(\"presentationV4.pptx\", slides.export.SaveFormat.PPTX)"
   ]
  },
  {
   "cell_type": "code",
   "execution_count": 15,
   "id": "cd7e2e87",
   "metadata": {},
   "outputs": [],
   "source": [
    "with slides.Presentation() as presentation:\n",
    "    masterSlide = presentation.masters[0]\n",
    "    #el layout 5 tiene solo el placeholder de titulo\n",
    "    slide = presentation.slides.add_empty_slide(masterSlide.layout_slides[5])\n",
    "    presentation.slides.remove(presentation.slides[0])\n",
    "    presentation.save(\"presentationV5.pptx\", slides.export.SaveFormat.PPTX)"
   ]
  },
  {
   "cell_type": "code",
   "execution_count": 68,
   "id": "e04383ff",
   "metadata": {},
   "outputs": [],
   "source": [
    "with slides.Presentation() as presentation:\n",
    "    masterSlide = presentation.masters[0]\n",
    "    #el layout 5 tiene solo el placeholder de titulo\n",
    "    slide = presentation.slides.add_empty_slide(masterSlide.layout_slides[5])\n",
    "    presentation.slides.remove(presentation.slides[0])\n",
    "    with open(\"img/WEEK-1.png\", \"rb\") as in_file:\n",
    "        image = presentation.images.add_image(in_file)\n",
    "        imgshp = slide.shapes.add_picture_frame(slides.ShapeType.RECTANGLE, 130, 90, 450, 320, image)\n",
    "        slide.shapes.reorder(0, imgshp);\n",
    "    presentation.save(\"presentationV6.pptx\", slides.export.SaveFormat.PPTX)\n"
   ]
  },
  {
   "cell_type": "code",
   "execution_count": 59,
   "id": "84628dee",
   "metadata": {},
   "outputs": [],
   "source": [
    "with slides.Presentation() as presentation:\n",
    "    masterSlide = presentation.masters[0]\n",
    "    #el layout 5 tiene solo el placeholder de titulo\n",
    "    slide = presentation.slides.add_empty_slide(masterSlide.layout_slides[5])\n",
    "    presentation.slides.remove(presentation.slides[0])\n",
    "    with open(\"img/WEEK-1.png\", \"rb\") as in_file:\n",
    "        image = presentation.images.add_image(in_file)\n",
    "\n",
    "        # Adds a frame with the picture's equivalent height and width\n",
    "        pf = slide.shapes.add_picture_frame(slides.ShapeType.RECTANGLE, 40, 150, image.width, image.height, image)\n",
    "\n",
    "        # Applies some formatting to the PictureFrameEx\n",
    "        pf.line_format.fill_format.fill_type = slides.FillType.SOLID\n",
    "        pf.line_format.fill_format.solid_fill_color.color = draw.Color.blue\n",
    "        pf.line_format.width = 20\n",
    "        pf.rotation = 45\n",
    "        \n",
    "    presentation.save(\"presentationV7.pptx\", slides.export.SaveFormat.PPTX)"
   ]
  },
  {
   "cell_type": "code",
   "execution_count": 72,
   "id": "82130652",
   "metadata": {},
   "outputs": [
    {
     "name": "stdout",
     "output_type": "stream",
     "text": [
      "Placeholder with text: Add Title\n"
     ]
    }
   ],
   "source": [
    "with slides.Presentation() as presentation:\n",
    "    masterSlide = presentation.masters[0]\n",
    "    #el layout 5 tiene solo el placeholder de titulo\n",
    "    slide = presentation.slides.add_empty_slide(masterSlide.layout_slides[5])\n",
    "    presentation.slides.remove(presentation.slides[0])\n",
    "    for shape in slide.slide.shapes: # Iterates through the slide\n",
    "        if shape.placeholder != None and type(shape) is slides.AutoShape:\n",
    "            text = \"\"\n",
    "            if shape.placeholder.type == slides.PlaceholderType.TITLE:\n",
    "                text = \"Add Title\"\n",
    "            elif shape.placeholder.type == slides.PlaceholderType.SUBTITLE: \n",
    "                text = \"Add Subtitle\"\n",
    "\n",
    "            shape.text_frame.text = text\n",
    "\n",
    "            print(\"Placeholder with text: {text}\".format(text = text))\n",
    "\n",
    "    presentation.save(\"presentationV8.pptx\", slides.export.SaveFormat.PPTX)"
   ]
  },
  {
   "cell_type": "markdown",
   "id": "a4a2c192",
   "metadata": {},
   "source": [
    "### Cambiando el formato del texto"
   ]
  },
  {
   "cell_type": "code",
   "execution_count": 55,
   "id": "51d16165",
   "metadata": {},
   "outputs": [],
   "source": [
    "import aspose.pydrawing as draw\n",
    "with slides.Presentation() as presentation:\n",
    "    presentation.slides.remove(presentation.slides[0])\n",
    "    masterSlide = presentation.masters[0]\n",
    "    slide = presentation.slides.add_empty_slide(masterSlide.layout_slides[5])\n",
    "    ashp = slide.shapes.add_auto_shape(slides.ShapeType.NOT_DEFINED, 150, 75, 150, 50)\n",
    "    ashp.add_text_frame(\" \")\n",
    "    txtFrame = ashp.text_frame\n",
    "    para = txtFrame.paragraphs[0]\n",
    "    portion = para.portions[0]\n",
    "    portion.text = \"Aspose TextBox\"\n",
    "    portion.portion_format.fill_format.fill_type = slides.FillType.SOLID\n",
    "    portion.portion_format.fill_format.solid_fill_color.color = draw.Color.black\n",
    "    portion.portion_format.font_bold = slides.PortionFormat().font_bold.TRUE\n",
    "    portion.portion_format.font_italic = slides.PortionFormat().font_italic.TRUE\n",
    "    presentation.save(\"presentationV9.pptx\", slides.export.SaveFormat.PPTX)"
   ]
  },
  {
   "cell_type": "code",
   "execution_count": 46,
   "id": "5527b86f",
   "metadata": {},
   "outputs": [],
   "source": [
    "import aspose.pydrawing as draw\n",
    "with slides.Presentation() as pres:\n",
    "    autoShape = pres.slides[0].shapes.add_auto_shape(slides.ShapeType.RECTANGLE, 50, 50, 200, 100)\n",
    "    autoShape.text_frame.paragraphs.clear()\n",
    "\n",
    "    para = slides.Paragraph()\n",
    "\n",
    "    portion1 = slides.Portion(\"Black\")\n",
    "    \n",
    "    portion2 = slides.Portion(\" Red \")\n",
    "    \n",
    "    portion3 = slides.Portion(\"Black\")\n",
    "\n",
    "    \n",
    "    para.portions.add(portion1)\n",
    "    para.portions.add(portion2)\n",
    "    para.portions.add(portion3)\n",
    "    autoShape.text_frame.paragraphs.add(para)\n",
    "    \n",
    "    pres.save(\"presentationV10.pptx\", slides.export.SaveFormat.PPTX)\n",
    "    \n",
    "with slides.Presentation(\"presentationV10.pptx\") as pres:\n",
    "    autoShape = pres.slides[0].shapes[0]\n",
    "\n",
    "    for portion in autoShape.text_frame.paragraphs[0].portions:\n",
    "        portion.portion_format.highlight_color.color = draw.Color.blue\n",
    "\n",
    "    pres.save(\"presentationV10.pptx\", slides.export.SaveFormat.PPTX)"
   ]
  },
  {
   "cell_type": "markdown",
   "id": "f4ba9dc2",
   "metadata": {},
   "source": [
    "### Moviendo shapes"
   ]
  },
  {
   "cell_type": "code",
   "execution_count": 11,
   "id": "71cc5ccc",
   "metadata": {},
   "outputs": [],
   "source": [
    "import aspose.pydrawing as draw\n",
    "import aspose.slides as slides\n",
    "with slides.Presentation() as presentation:\n",
    "    presentation.slides.remove(presentation.slides[0])\n",
    "    masterSlide = presentation.masters[0]\n",
    "    slide = presentation.slides.add_empty_slide(masterSlide.layout_slides[5])\n",
    "    titlePlaceholder = masterSlide.shapes[0]\n",
    "    titlePlaceholder.fill_format.fill_type = slides.FillType.NOT_DEFINED\n",
    "    titlePlaceholder.fill_format.solid_fill_color.color = draw.Color.gray\n",
    "    titlePlaceholder.x = 100\n",
    "    titlePlaceholder.y = 300\n",
    "    \n",
    "    presentation.save(\"presentationV11.pptx\", slides.export.SaveFormat.PPTX)"
   ]
  },
  {
   "cell_type": "code",
   "execution_count": 60,
   "id": "6e6fc821",
   "metadata": {},
   "outputs": [],
   "source": [
    "import aspose.pydrawing as draw\n",
    "import aspose.slides as slides\n",
    "with slides.Presentation() as presentation:\n",
    "    presentation.slides.remove(presentation.slides[0])\n",
    "    masterSlide = presentation.masters[0]\n",
    "    slide = presentation.slides.add_empty_slide(masterSlide.layout_slides[5])\n",
    "    slide.background.type = slides.BackgroundType.OWN_BACKGROUND\n",
    "    slide.background.fill_format.fill_type = slides.FillType.SOLID\n",
    "    slide.background.fill_format.solid_fill_color.color = draw.Color.blue\n",
    "    presentation.save(\"presentationV12.pptx\", slides.export.SaveFormat.PPTX)"
   ]
  },
  {
   "cell_type": "code",
   "execution_count": 62,
   "id": "5100db71",
   "metadata": {},
   "outputs": [],
   "source": [
    "import aspose.pydrawing as draw\n",
    "import aspose.slides as slides\n",
    "with slides.Presentation() as presentation:\n",
    "    presentation.slides.remove(presentation.slides[0])\n",
    "    masterSlide = presentation.masters[0]\n",
    "    slide = presentation.slides.add_empty_slide(masterSlide.layout_slides[5])\n",
    "    slide.background.type = slides.BackgroundType.OWN_BACKGROUND\n",
    "    slide.background.fill_format.fill_type = slides.FillType.PICTURE\n",
    "    slide.background.fill_format.picture_fill_format.picture_fill_mode = slides.PictureFillMode.STRETCH\n",
    "    img = draw.Bitmap(\"bodega.jpg\")\n",
    "    imgx = presentation.images.add_image(img)\n",
    "    slide.background.fill_format.picture_fill_format.picture.image = imgx\n",
    "    presentation.save(\"presentationV13.pptx\", slides.export.SaveFormat.PPTX)"
   ]
  },
  {
   "cell_type": "code",
   "execution_count": null,
   "id": "40f07818",
   "metadata": {},
   "outputs": [],
   "source": []
  }
 ],
 "metadata": {
  "kernelspec": {
   "display_name": "Python 3 (ipykernel)",
   "language": "python",
   "name": "python3"
  },
  "language_info": {
   "codemirror_mode": {
    "name": "ipython",
    "version": 3
   },
   "file_extension": ".py",
   "mimetype": "text/x-python",
   "name": "python",
   "nbconvert_exporter": "python",
   "pygments_lexer": "ipython3",
   "version": "3.9.13"
  }
 },
 "nbformat": 4,
 "nbformat_minor": 5
}
