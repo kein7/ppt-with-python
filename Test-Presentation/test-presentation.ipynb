{
 "cells": [
  {
   "cell_type": "markdown",
   "id": "cc2cd92c",
   "metadata": {},
   "source": [
    "## Creando una presentación"
   ]
  },
  {
   "cell_type": "code",
   "execution_count": 3,
   "id": "ab4ad0f3",
   "metadata": {},
   "outputs": [],
   "source": [
    "import aspose.slides as slides\n",
    "\n",
    "# Instantiate a Presentation object that represents a presentation file\n",
    "with slides.Presentation() as presentation:\n",
    "    slide = presentation.slides[0]\n",
    "    slide.shapes.add_auto_shape(slides.ShapeType.LINE, 50, 150, 300, 0)\n",
    "    presentation.save(\"Hola_Mundo.pptx\", slides.export.SaveFormat.PPTX)"
   ]
  },
  {
   "cell_type": "markdown",
   "id": "849f80ac",
   "metadata": {},
   "source": [
    "## Abriendo una presentación"
   ]
  },
  {
   "cell_type": "code",
   "execution_count": 5,
   "id": "3d6f05dc",
   "metadata": {},
   "outputs": [
    {
     "name": "stdout",
     "output_type": "stream",
     "text": [
      "1\n"
     ]
    }
   ],
   "source": [
    "import aspose.slides as slides\n",
    "\n",
    "# Opening the presentation file by passing the file path to the constructor of Presentation class\n",
    "with slides.Presentation(\"Hola_Mundo.pptx\") as pres:\n",
    "    # Printing the total number of slides present in the presentation\n",
    "    print(pres.slides.length)"
   ]
  },
  {
   "cell_type": "markdown",
   "id": "ffe1a67a",
   "metadata": {},
   "source": [
    "## Combinando presentaciones"
   ]
  },
  {
   "cell_type": "markdown",
   "id": "a4148526",
   "metadata": {},
   "source": [
    "### Combinando manteniendo el formato de ambas"
   ]
  },
  {
   "cell_type": "code",
   "execution_count": 6,
   "id": "c8e61e14",
   "metadata": {},
   "outputs": [],
   "source": [
    "import aspose.slides as slides\n",
    "\n",
    "with slides.Presentation(\"Hola_Mundo.pptx\") as pres1:\n",
    "    with slides.Presentation(\"test_ppt.pptx\") as pres2:\n",
    "        for slide in pres2.slides:\n",
    "            pres1.slides.add_clone(slide)\n",
    "        pres1.save(\"ppt_combinadas.pptx\", slides.export.SaveFormat.PPTX)"
   ]
  },
  {
   "cell_type": "markdown",
   "id": "db43e232",
   "metadata": {},
   "source": [
    "### Combinando presentaciones con Slide Master"
   ]
  },
  {
   "cell_type": "code",
   "execution_count": 13,
   "id": "81f060a4",
   "metadata": {},
   "outputs": [
    {
     "ename": "IndexError",
     "evalue": "list index out of range",
     "output_type": "error",
     "traceback": [
      "\u001b[1;31m---------------------------------------------------------------------------\u001b[0m",
      "\u001b[1;31mIndexError\u001b[0m                                Traceback (most recent call last)",
      "\u001b[1;32m~\\AppData\\Local\\Temp\\ipykernel_1376\\1401316889.py\u001b[0m in \u001b[0;36m<module>\u001b[1;34m\u001b[0m\n\u001b[0;32m      4\u001b[0m     \u001b[1;32mwith\u001b[0m \u001b[0mslides\u001b[0m\u001b[1;33m.\u001b[0m\u001b[0mPresentation\u001b[0m\u001b[1;33m(\u001b[0m\u001b[1;34m\"test_ppt.pptx\"\u001b[0m\u001b[1;33m)\u001b[0m \u001b[1;32mas\u001b[0m \u001b[0mpres2\u001b[0m\u001b[1;33m:\u001b[0m\u001b[1;33m\u001b[0m\u001b[1;33m\u001b[0m\u001b[0m\n\u001b[0;32m      5\u001b[0m         \u001b[1;32mfor\u001b[0m \u001b[0mslide\u001b[0m \u001b[1;32min\u001b[0m \u001b[0mpres2\u001b[0m\u001b[1;33m.\u001b[0m\u001b[0mslides\u001b[0m\u001b[1;33m:\u001b[0m\u001b[1;33m\u001b[0m\u001b[1;33m\u001b[0m\u001b[0m\n\u001b[1;32m----> 6\u001b[1;33m             \u001b[0mpres1\u001b[0m\u001b[1;33m.\u001b[0m\u001b[0mslides\u001b[0m\u001b[1;33m.\u001b[0m\u001b[0madd_clone\u001b[0m\u001b[1;33m(\u001b[0m\u001b[0mslide\u001b[0m\u001b[1;33m,\u001b[0m \u001b[0mpres1\u001b[0m\u001b[1;33m.\u001b[0m\u001b[0mmasters\u001b[0m\u001b[1;33m[\u001b[0m\u001b[1;36m1\u001b[0m\u001b[1;33m]\u001b[0m\u001b[1;33m,\u001b[0m \u001b[0mallow_clone_missing_layout\u001b[0m \u001b[1;33m=\u001b[0m \u001b[1;32mTrue\u001b[0m\u001b[1;33m)\u001b[0m\u001b[1;33m\u001b[0m\u001b[1;33m\u001b[0m\u001b[0m\n\u001b[0m\u001b[0;32m      7\u001b[0m         \u001b[0mpres1\u001b[0m\u001b[1;33m.\u001b[0m\u001b[0msave\u001b[0m\u001b[1;33m(\u001b[0m\u001b[1;34m\"ppt_combinadas_con_master.pptx\"\u001b[0m\u001b[1;33m,\u001b[0m \u001b[0mslides\u001b[0m\u001b[1;33m.\u001b[0m\u001b[0mexport\u001b[0m\u001b[1;33m.\u001b[0m\u001b[0mSaveFormat\u001b[0m\u001b[1;33m.\u001b[0m\u001b[0mPPTX\u001b[0m\u001b[1;33m)\u001b[0m\u001b[1;33m\u001b[0m\u001b[1;33m\u001b[0m\u001b[0m\n",
      "\u001b[1;31mIndexError\u001b[0m: list index out of range"
     ]
    }
   ],
   "source": [
    "import aspose.slides as slides\n",
    "\n",
    "with slides.Presentation(\"Hola_Mundo.pptx\") as pres1:\n",
    "    with slides.Presentation(\"test_ppt.pptx\") as pres2:\n",
    "        for slide in pres2.slides:\n",
    "            pres1.slides.add_clone(slide, pres1.masters[0], allow_clone_missing_layout = True)\n",
    "        pres1.save(\"ppt_combinadas_con_master.pptx\", slides.export.SaveFormat.PPTX) "
   ]
  },
  {
   "cell_type": "markdown",
   "id": "0e4d661b",
   "metadata": {},
   "source": [
    "### Combinando presentaciones especificando el layout "
   ]
  },
  {
   "cell_type": "code",
   "execution_count": 12,
   "id": "7fb9929e",
   "metadata": {},
   "outputs": [],
   "source": [
    "import aspose.slides as slides\n",
    "\n",
    "with slides.Presentation(\"Hola_Mundo.pptx\") as pres1:\n",
    "    with slides.Presentation(\"test_ppt.pptx\") as pres2:\n",
    "        for slide in pres2.slides:\n",
    "            pres1.slides.add_clone(slide, pres1.layout_slides[4])\n",
    "        pres1.save(\"ppt_combinadas_con_layout.pptx\", slides.export.SaveFormat.PPTX) "
   ]
  },
  {
   "cell_type": "markdown",
   "id": "56914e27",
   "metadata": {},
   "source": [
    "## Importar Presentaciones"
   ]
  },
  {
   "cell_type": "markdown",
   "id": "e3d6904e",
   "metadata": {},
   "source": [
    "### Importar PPT desde un PDF"
   ]
  },
  {
   "cell_type": "code",
   "execution_count": 21,
   "id": "d1ff9fa7",
   "metadata": {},
   "outputs": [],
   "source": [
    "## Transformando Hola_Mundo.pptx en pdf\n",
    "import aspose.slides as slides\n",
    "import aspose.pydrawing as drawing\n",
    "\n",
    "with slides.Presentation(\"Hola_Mundo.pptx\") as pres:\n",
    "    printerSettings = drawing.printing.PrinterSettings()\n",
    "    printerSettings.copies = 2\n",
    "    printerSettings.default_page_settings.landscape = True\n",
    "    printerSettings.default_page_settings.margins.left = 10\n",
    "    pres.print(printerSettings)"
   ]
  },
  {
   "cell_type": "code",
   "execution_count": 22,
   "id": "74e69d8f",
   "metadata": {},
   "outputs": [],
   "source": [
    "import aspose.slides as slides\n",
    "\n",
    "with slides.Presentation() as pres:\n",
    "    pres.slides.remove_at(0)\n",
    "    pres.slides.add_from_pdf(\"Hola_Mundo_PDF.pdf\")\n",
    "    pres.save(\"Hola_Mundo_PDF_a_PPTX.pptx\", slides.export.SaveFormat.PPTX)"
   ]
  },
  {
   "cell_type": "markdown",
   "id": "ae17e39a",
   "metadata": {},
   "source": [
    "### Importar PPT desde un HTML"
   ]
  },
  {
   "cell_type": "code",
   "execution_count": 25,
   "id": "eb61a9aa",
   "metadata": {},
   "outputs": [],
   "source": [
    "import aspose.slides as slides\n",
    "\n",
    "with slides.Presentation() as pres:\n",
    "    with open(\"ppt.html\", \"rb\") as htmlStream:\n",
    "        pres.slides.add_from_html(htmlStream)\n",
    "\n",
    "    pres.save(\"ppt_html_a_ppt.pptx\", slides.export.SaveFormat.PPTX)"
   ]
  },
  {
   "cell_type": "markdown",
   "id": "a47768f4",
   "metadata": {},
   "source": [
    "## Convertir Presentaciones"
   ]
  },
  {
   "cell_type": "markdown",
   "id": "fae93fc4",
   "metadata": {},
   "source": [
    "### Convertir PPT a PDF"
   ]
  },
  {
   "cell_type": "code",
   "execution_count": 26,
   "id": "8820079a",
   "metadata": {},
   "outputs": [],
   "source": [
    "import aspose.slides as slides\n",
    "\n",
    "presentation = slides.Presentation(\"Hola_Mundo.pptx\")\n",
    "\n",
    "# Saves the presentation as a PDF\n",
    "presentation.save(\"PPT-a-PDF.pdf\", slides.export.SaveFormat.PDF)"
   ]
  },
  {
   "cell_type": "markdown",
   "id": "0dd7dc0f",
   "metadata": {},
   "source": [
    "### Convertir PPT a PNG"
   ]
  },
  {
   "cell_type": "code",
   "execution_count": 30,
   "id": "c2ad8c20",
   "metadata": {},
   "outputs": [],
   "source": [
    "import aspose.slides as slides\n",
    "import aspose.pydrawing as drawing\n",
    "\n",
    "pres = slides.Presentation(\"test_ppt.pptx\")\n",
    "\n",
    "scaleX = 2\n",
    "scaleY = 2\n",
    "for index in range(pres.slides.length):\n",
    "    slide = pres.slides[index]\n",
    "    slide.get_thumbnail(scaleX, scaleY).save(\"pptx_a_img/slide_{index}.png\".format(index=index), drawing.imaging.ImageFormat.png)"
   ]
  },
  {
   "cell_type": "code",
   "execution_count": null,
   "id": "eb20c1f6",
   "metadata": {},
   "outputs": [],
   "source": []
  }
 ],
 "metadata": {
  "kernelspec": {
   "display_name": "Python 3 (ipykernel)",
   "language": "python",
   "name": "python3"
  },
  "language_info": {
   "codemirror_mode": {
    "name": "ipython",
    "version": 3
   },
   "file_extension": ".py",
   "mimetype": "text/x-python",
   "name": "python",
   "nbconvert_exporter": "python",
   "pygments_lexer": "ipython3",
   "version": "3.9.13"
  }
 },
 "nbformat": 4,
 "nbformat_minor": 5
}
