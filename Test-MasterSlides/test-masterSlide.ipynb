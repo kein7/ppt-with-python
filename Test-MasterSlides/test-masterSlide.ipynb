{
 "cells": [
  {
   "cell_type": "markdown",
   "id": "e0f180f8",
   "metadata": {},
   "source": [
    "## Accediendo al Master Slide"
   ]
  },
  {
   "cell_type": "code",
   "execution_count": null,
   "id": "8ae93a76",
   "metadata": {},
   "outputs": [],
   "source": [
    "import aspose.slides as slides\n",
    "\n",
    "with slides.Presentation() as pres:\n",
    "    masterSlide = pres.masters[0]"
   ]
  },
  {
   "cell_type": "markdown",
   "id": "946de340",
   "metadata": {},
   "source": [
    "## Añadiendo una imagen al Master Slide"
   ]
  },
  {
   "cell_type": "code",
   "execution_count": 3,
   "id": "646067bf",
   "metadata": {},
   "outputs": [],
   "source": [
    "import aspose.slides as slides\n",
    "\n",
    "with slides.Presentation() as pres:\n",
    "    masterSlide = pres.masters[0]\n",
    "\n",
    "    def readAllBytes(file_name):\n",
    "        with open(file_name, \"rb\") as stream:\n",
    "            return stream.read()\n",
    "\n",
    "    logo = pres.images.add_image(readAllBytes(\"img/udp_logo.png\"))\n",
    "    \n",
    "    masterSlide.shapes.add_picture_frame(slides.ShapeType.RECTANGLE, 10, 10, 250, 60, logo)\n",
    "\n",
    "    pres.slides.add_empty_slide(masterSlide.layout_slides[0])\n",
    "    pres.slides.add_empty_slide(masterSlide.layout_slides[1]) \n",
    "    pres.save(\"Añadiendo_imagen_a_masterSlide.pptx\", slides.export.SaveFormat.PPTX)\n"
   ]
  },
  {
   "cell_type": "markdown",
   "id": "26f84711",
   "metadata": {},
   "source": [
    "## Modificando placeholder del Master Slide"
   ]
  },
  {
   "cell_type": "code",
   "execution_count": 22,
   "id": "1ae005b2",
   "metadata": {},
   "outputs": [],
   "source": [
    "import aspose.slides as slides\n",
    "import aspose.pydrawing as draw\n",
    "\n",
    "with slides.Presentation() as pres:\n",
    "    masterSlide = pres.masters[0]\n",
    "\n",
    "    pres.slides.add_empty_slide(masterSlide.layout_slides[0])\n",
    "    pres.slides.add_empty_slide(masterSlide.layout_slides[1]) \n",
    "    \n",
    "    titlePlaceholder = masterSlide.shapes[0]\n",
    "    \n",
    "    titlePlaceholder.fill_format.fill_type = slides.FillType.GRADIENT\n",
    "    titlePlaceholder.fill_format.gradient_format.gradient_stops.add(0, draw.Color.red)\n",
    "    titlePlaceholder.fill_format.gradient_format.gradient_stops.add(50, draw.Color.green)\n",
    "    titlePlaceholder.fill_format.gradient_format.gradient_stops.add(100, draw.Color.blue)\n",
    " \n",
    "    pres.save(\"Modificando_placeholder_a_masterSlide.pptx\", slides.export.SaveFormat.PPTX)"
   ]
  },
  {
   "cell_type": "markdown",
   "id": "b3e44967",
   "metadata": {},
   "source": [
    "## Modificando backgorund del master slide"
   ]
  },
  {
   "cell_type": "code",
   "execution_count": 23,
   "id": "6a4efe4f",
   "metadata": {},
   "outputs": [],
   "source": [
    "import aspose.slides as slides\n",
    "import aspose.pydrawing as draw\n",
    "\n",
    "with slides.Presentation() as pres:\n",
    "    masterSlide = pres.masters[0]\n",
    "\n",
    "    pres.slides.add_empty_slide(masterSlide.layout_slides[0])\n",
    "    pres.slides.add_empty_slide(masterSlide.layout_slides[1]) \n",
    "    \n",
    "    masterSlide.background.type = slides.BackgroundType.OWN_BACKGROUND\n",
    "    masterSlide.background.fill_format.fill_type = slides.FillType.SOLID\n",
    "    masterSlide.background.fill_format.solid_fill_color.color = draw.Color.gray\n",
    " \n",
    "    pres.save(\"Modificando_background_a_masterSlide.pptx\", slides.export.SaveFormat.PPTX)"
   ]
  },
  {
   "cell_type": "markdown",
   "id": "96921a69",
   "metadata": {},
   "source": [
    "## Añadir un segundo Master Slide"
   ]
  },
  {
   "cell_type": "code",
   "execution_count": 29,
   "id": "193d4579",
   "metadata": {},
   "outputs": [],
   "source": [
    "import aspose.slides as slides\n",
    "import aspose.pydrawing as draw\n",
    "\n",
    "with slides.Presentation() as pres:\n",
    "    masterSlide = pres.masters[0]\n",
    "\n",
    "    pres.slides.add_empty_slide(masterSlide.layout_slides[0])\n",
    "    \n",
    "    secondMasterSlide = pres.masters.add_clone(masterSlide)\n",
    "     \n",
    "    pres.slides.add_empty_slide(secondMasterSlide.layout_slides[0])\n",
    "    \n",
    "    pres.save(\"Añadiendo_segunda_masterSlide.pptx\", slides.export.SaveFormat.PPTX)"
   ]
  },
  {
   "cell_type": "code",
   "execution_count": null,
   "id": "2b5e5ac6",
   "metadata": {},
   "outputs": [],
   "source": []
  }
 ],
 "metadata": {
  "kernelspec": {
   "display_name": "Python 3 (ipykernel)",
   "language": "python",
   "name": "python3"
  },
  "language_info": {
   "codemirror_mode": {
    "name": "ipython",
    "version": 3
   },
   "file_extension": ".py",
   "mimetype": "text/x-python",
   "name": "python",
   "nbconvert_exporter": "python",
   "pygments_lexer": "ipython3",
   "version": "3.9.13"
  }
 },
 "nbformat": 4,
 "nbformat_minor": 5
}
